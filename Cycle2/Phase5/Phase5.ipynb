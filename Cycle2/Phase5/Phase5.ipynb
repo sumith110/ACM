{
  "nbformat": 4,
  "nbformat_minor": 0,
  "metadata": {
    "colab": {
      "provenance": []
    },
    "kernelspec": {
      "name": "python3",
      "display_name": "Python 3"
    },
    "language_info": {
      "name": "python"
    }
  },
  "cells": [
    {
      "cell_type": "code",
      "execution_count": 51,
      "metadata": {
        "id": "KCx74KHSIybg"
      },
      "outputs": [],
      "source": [
        "from sklearn.datasets import load_digits\n",
        "digits = load_digits()"
      ]
    },
    {
      "cell_type": "markdown",
      "source": [
        "KFold basically splits the data into three subsets(the no of splits depends on n_splits value) and in first case it uses the first subset as testing set and the other two as training subsets and after that second subset becomes testing and the other two will become training and then the third subset will become testing subset and other two will become training subsets calculates score during each case and averages it"
      ],
      "metadata": {
        "id": "_Cwu1zYUOSx6"
      }
    },
    {
      "cell_type": "code",
      "source": [
        "from sklearn.model_selection import KFold\n",
        "kf=KFold(n_splits=3)"
      ],
      "metadata": {
        "id": "iQS32HBHJVPu"
      },
      "execution_count": 52,
      "outputs": []
    },
    {
      "cell_type": "code",
      "source": [
        "kf"
      ],
      "metadata": {
        "colab": {
          "base_uri": "https://localhost:8080/"
        },
        "id": "RQmw5-oPJriK",
        "outputId": "72ed789e-48a7-4407-e824-6f7dd54ac708"
      },
      "execution_count": 53,
      "outputs": [
        {
          "output_type": "execute_result",
          "data": {
            "text/plain": [
              "KFold(n_splits=3, random_state=None, shuffle=False)"
            ]
          },
          "metadata": {},
          "execution_count": 53
        }
      ]
    },
    {
      "cell_type": "code",
      "source": [
        "from sklearn.ensemble import RandomForestClassifier\n",
        "rfc=RandomForestClassifier()"
      ],
      "metadata": {
        "id": "2FquoJbDKESx"
      },
      "execution_count": 54,
      "outputs": []
    },
    {
      "cell_type": "code",
      "source": [
        "abc=0"
      ],
      "metadata": {
        "id": "ERGJxpm-RQJK"
      },
      "execution_count": 55,
      "outputs": []
    },
    {
      "cell_type": "code",
      "source": [
        "for train_index, test_index in kf.split(digits.data):\n",
        "    X_train, X_test = digits.data[train_index], digits.data[test_index]\n",
        "    y_train, y_test = digits.target[train_index], digits.target[test_index]\n",
        "    rfc.fit(X_train, y_train)\n",
        "    print(rfc.score(X_test,y_test))\n",
        "    abc+=rfc.score(X_test,y_test)"
      ],
      "metadata": {
        "colab": {
          "base_uri": "https://localhost:8080/"
        },
        "id": "1Y-jy1bUK3Wn",
        "outputId": "af0ab9c9-d3d4-4d6f-9612-834446c99010"
      },
      "execution_count": 56,
      "outputs": [
        {
          "output_type": "stream",
          "name": "stdout",
          "text": [
            "0.9382303839732888\n",
            "0.9482470784641068\n",
            "0.9248747913188647\n"
          ]
        }
      ]
    },
    {
      "cell_type": "code",
      "source": [
        "print(f\"the final score is {abc/3}\")"
      ],
      "metadata": {
        "colab": {
          "base_uri": "https://localhost:8080/"
        },
        "id": "VHBoUiEdRTuV",
        "outputId": "17af6f92-6618-4691-f858-9df1652248d1"
      },
      "execution_count": 57,
      "outputs": [
        {
          "output_type": "stream",
          "name": "stdout",
          "text": [
            "the final score is 0.9371174179187535\n"
          ]
        }
      ]
    },
    {
      "cell_type": "code",
      "source": [
        "from sklearn.svm import SVC\n",
        "svm=SVC()"
      ],
      "metadata": {
        "id": "wvFsk-O2NYfs"
      },
      "execution_count": 58,
      "outputs": []
    },
    {
      "cell_type": "code",
      "source": [
        "abc=0"
      ],
      "metadata": {
        "id": "k-uHHvKqRJfZ"
      },
      "execution_count": 59,
      "outputs": []
    },
    {
      "cell_type": "code",
      "source": [
        "for train_index, test_index in kf.split(digits.data):\n",
        "    X_train, X_test = digits.data[train_index], digits.data[test_index]\n",
        "    y_train, y_test = digits.target[train_index], digits.target[test_index]\n",
        "    svm.fit(X_train, y_train)\n",
        "    print(svm.score(X_test,y_test))\n",
        "    abc+=rfc.score(X_test,y_test)"
      ],
      "metadata": {
        "colab": {
          "base_uri": "https://localhost:8080/"
        },
        "id": "45NnZbQcNiNX",
        "outputId": "aee4aed6-d3fc-4c1c-8323-b16677bfb505"
      },
      "execution_count": 60,
      "outputs": [
        {
          "output_type": "stream",
          "name": "stdout",
          "text": [
            "0.9666110183639399\n",
            "0.9816360601001669\n",
            "0.9549248747913188\n"
          ]
        }
      ]
    },
    {
      "cell_type": "code",
      "source": [
        "print(f\"the final score is {abc/3}\")"
      ],
      "metadata": {
        "colab": {
          "base_uri": "https://localhost:8080/"
        },
        "id": "BclacEYbRLa0",
        "outputId": "a19a5d82-1364-4f35-dc34-8668ad689ab6"
      },
      "execution_count": 61,
      "outputs": [
        {
          "output_type": "stream",
          "name": "stdout",
          "text": [
            "the final score is 0.9749582637729549\n"
          ]
        }
      ]
    },
    {
      "cell_type": "markdown",
      "source": [
        "StratifiedKFold is similar to that of KFold but it equally divides the output in training and testing"
      ],
      "metadata": {
        "id": "A4vb1UZzPDBs"
      }
    },
    {
      "cell_type": "code",
      "source": [
        "from sklearn.model_selection import StratifiedKFold"
      ],
      "metadata": {
        "id": "uOeGOY3WNv05"
      },
      "execution_count": 62,
      "outputs": []
    },
    {
      "cell_type": "code",
      "source": [
        "skf=StratifiedKFold(n_splits=3)"
      ],
      "metadata": {
        "id": "_1BQll-7N5VH"
      },
      "execution_count": 63,
      "outputs": []
    },
    {
      "cell_type": "code",
      "source": [
        "skf"
      ],
      "metadata": {
        "colab": {
          "base_uri": "https://localhost:8080/"
        },
        "id": "JIuW65CeOAIu",
        "outputId": "ba9174df-02a4-4437-bcfa-4e53222f696c"
      },
      "execution_count": 64,
      "outputs": [
        {
          "output_type": "execute_result",
          "data": {
            "text/plain": [
              "StratifiedKFold(n_splits=3, random_state=None, shuffle=False)"
            ]
          },
          "metadata": {},
          "execution_count": 64
        }
      ]
    },
    {
      "cell_type": "code",
      "source": [
        "abc=0"
      ],
      "metadata": {
        "id": "69_sJcMRQeXP"
      },
      "execution_count": 65,
      "outputs": []
    },
    {
      "cell_type": "code",
      "source": [
        "for train_index, test_index in skf.split(digits.data, digits.target):\n",
        "    X_train, X_test = digits.data[train_index], digits.data[test_index]\n",
        "    y_train, y_test = digits.target[train_index], digits.target[test_index]\n",
        "    rfc.fit(X_train, y_train)\n",
        "    print(rfc.score(X_test,y_test))\n",
        "    abc+=rfc.score(X_test,y_test)"
      ],
      "metadata": {
        "colab": {
          "base_uri": "https://localhost:8080/"
        },
        "id": "G79aXgmCOA92",
        "outputId": "7ece4ce8-7099-40f2-cd75-b82a80fba0d4"
      },
      "execution_count": 66,
      "outputs": [
        {
          "output_type": "stream",
          "name": "stdout",
          "text": [
            "0.9315525876460768\n",
            "0.9582637729549248\n",
            "0.9165275459098498\n"
          ]
        }
      ]
    },
    {
      "cell_type": "code",
      "source": [
        "print(f\"the final score is {abc/3}\")"
      ],
      "metadata": {
        "colab": {
          "base_uri": "https://localhost:8080/"
        },
        "id": "nioAdyNAQgWk",
        "outputId": "16ae004e-d948-4cc9-cb86-d91a7cf87ac5"
      },
      "execution_count": 67,
      "outputs": [
        {
          "output_type": "stream",
          "name": "stdout",
          "text": [
            "the final score is 0.9354479688369505\n"
          ]
        }
      ]
    },
    {
      "cell_type": "code",
      "source": [
        "from sklearn.model_selection import learning_curve\n",
        "import matplotlib.pyplot as plt\n",
        "import numpy as np\n",
        "\n",
        "train_sizes, train_scores, test_scores = learning_curve(\n",
        "    rfc, digits.data, digits.target)\n",
        "\n",
        "train_scores_mean = np.mean(train_scores, axis=1)\n",
        "test_scores_mean = np.mean(test_scores, axis=1)\n",
        "\n",
        "plt.figure()\n",
        "plt.title(\"Learning Curve RFC\")\n",
        "plt.xlabel(\"Training\")\n",
        "plt.ylabel(\"Score\")\n",
        "\n",
        "\n",
        "plt.plot(train_sizes, train_scores_mean)\n",
        "plt.plot(train_sizes, test_scores_mean)\n",
        "\n"
      ],
      "metadata": {
        "colab": {
          "base_uri": "https://localhost:8080/",
          "height": 490
        },
        "id": "EE_mBlq-TXNZ",
        "outputId": "584c0164-9aab-4390-d083-ff1dc999021e"
      },
      "execution_count": 74,
      "outputs": [
        {
          "output_type": "execute_result",
          "data": {
            "text/plain": [
              "[<matplotlib.lines.Line2D at 0x7b3df0c8b690>]"
            ]
          },
          "metadata": {},
          "execution_count": 74
        },
        {
          "output_type": "display_data",
          "data": {
            "text/plain": [
              "<Figure size 640x480 with 1 Axes>"
            ],
            "image/png": "[encoded data removed]"
          },
          "metadata": {}
        }
      ]
    },
    {
      "cell_type": "code",
      "source": [
        "abc=0"
      ],
      "metadata": {
        "id": "MfU-l0p-QKjx"
      },
      "execution_count": 69,
      "outputs": []
    },
    {
      "cell_type": "code",
      "source": [
        "for train_index, test_index in kf.split(digits.data):\n",
        "    X_train, X_test = digits.data[train_index], digits.data[test_index]\n",
        "    y_train, y_test = digits.target[train_index], digits.target[test_index]\n",
        "    svm.fit(X_train, y_train)\n",
        "    print(svm.score(X_test,y_test))\n",
        "    abc+=svm.score(X_test,y_test)"
      ],
      "metadata": {
        "colab": {
          "base_uri": "https://localhost:8080/"
        },
        "id": "dnGfHd5UOQCJ",
        "outputId": "7c8f348d-b7f2-4afe-a115-9fafeeff3760"
      },
      "execution_count": 70,
      "outputs": [
        {
          "output_type": "stream",
          "name": "stdout",
          "text": [
            "0.9666110183639399\n",
            "0.9816360601001669\n",
            "0.9549248747913188\n"
          ]
        }
      ]
    },
    {
      "cell_type": "code",
      "source": [
        "print(f\"the final score is {abc/3}\")"
      ],
      "metadata": {
        "colab": {
          "base_uri": "https://localhost:8080/"
        },
        "id": "LExYAtVVOQZV",
        "outputId": "54e98416-9be0-48b3-f88f-383145c5c689"
      },
      "execution_count": 71,
      "outputs": [
        {
          "output_type": "stream",
          "name": "stdout",
          "text": [
            "the final score is 0.9677239844184752\n"
          ]
        }
      ]
    },
    {
      "cell_type": "code",
      "metadata": {
        "colab": {
          "base_uri": "https://localhost:8080/",
          "height": 490
        },
        "id": "5325a8c6",
        "outputId": "2ec56261-93ab-47aa-941e-e3a326219332"
      },
      "source": [
        "from sklearn.model_selection import learning_curve\n",
        "import matplotlib.pyplot as plt\n",
        "import numpy as np\n",
        "\n",
        "train_sizes, train_scores, test_scores = learning_curve(\n",
        "    svm, digits.data, digits.target)\n",
        "\n",
        "train_scores_mean = np.mean(train_scores, axis=1)\n",
        "test_scores_mean = np.mean(test_scores, axis=1)\n",
        "\n",
        "plt.figure()\n",
        "plt.title(\"Learning Curve-SVM\")\n",
        "plt.xlabel(\"Training\")\n",
        "plt.ylabel(\"Score\")\n",
        "\n",
        "\n",
        "plt.plot(train_sizes, train_scores_mean)\n",
        "plt.plot(train_sizes, test_scores_mean)\n",
        "\n"
      ],
      "execution_count": 72,
      "outputs": [
        {
          "output_type": "execute_result",
          "data": {
            "text/plain": [
              "[<matplotlib.lines.Line2D at 0x7b3df0dcf110>]"
            ]
          },
          "metadata": {},
          "execution_count": 72
        },
        {
          "output_type": "display_data",
          "data": {
            "text/plain": [
              "<Figure size 640x480 with 1 Axes>"
            ],
            "image/png": "[encoded data removed]"
          },
          "metadata": {}
        }
      ]
    },
    {
      "cell_type": "markdown",
      "source": [
        "Overfitting:"
      ],
      "metadata": {
        "id": "fp2NlyDKVz2c"
      }
    },
    {
      "cell_type": "markdown",
      "source": [
        "It gives high accuracy on trained data (low bias) and less accuracy on testing data (high variance)\n",
        "\n",
        "---\n",
        "\n"
      ],
      "metadata": {
        "id": "a0M6C-eQV2f6"
      }
    },
    {
      "cell_type": "markdown",
      "source": [
        "Underfitting:"
      ],
      "metadata": {
        "id": "ZfhJvKuMWbe4"
      }
    },
    {
      "cell_type": "markdown",
      "source": [
        "It is trained on data poorly it gives less accuracy for both testing (low variance) and training data (high bias)\n",
        "\n",
        "---\n",
        "\n"
      ],
      "metadata": {
        "id": "A6mldq0TWdbn"
      }
    },
    {
      "cell_type": "code",
      "source": [],
      "metadata": {
        "id": "ZUMg98hXVBhk"
      },
      "execution_count": null,
      "outputs": []
    }
  ]
}